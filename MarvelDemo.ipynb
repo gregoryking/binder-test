{
 "metadata": {
  "language_info": {
   "codemirror_mode": {
    "name": "ipython",
    "version": 3
   },
   "file_extension": ".py",
   "mimetype": "text/x-python",
   "name": "python",
   "nbconvert_exporter": "python",
   "pygments_lexer": "ipython3",
   "version": 3
  },
  "orig_nbformat": 2
 },
 "nbformat": 4,
 "nbformat_minor": 2,
 "cells": [
  {
   "source": [
    "%load_ext cypher"
   ],
   "cell_type": "code",
   "metadata": {},
   "execution_count": null,
   "outputs": []
  },
  {
   "source": [
    "# Marvel Demo\n",
    "\n",
    "Overview of what the demo does\n",
    "\n",
    "##  1. Data Prep\n",
    "### 1.1 Data Load\n",
    "\n",
    "Describe loading the data from remode node/edge lists using LOAD CSV"
   ],
   "cell_type": "markdown",
   "metadata": {}
  },
  {
   "cell_type": "code",
   "execution_count": null,
   "metadata": {},
   "outputs": [],
   "source": [
    "%%cypher\n",
    "CALL apoc.schema.assert({Character:['name']},{Comic:['id'], Character:['id'], Event:['id'], Group:['id']})"
   ]
  },
  {
   "cell_type": "code",
   "execution_count": null,
   "metadata": {},
   "outputs": [],
   "source": [
    "%%cypher\n",
    "LOAD CSV WITH HEADERS FROM \"https://raw.githubusercontent.com/tomasonjo/blog-datasets/main/Marvel/heroes.csv\" as row\n",
    "CREATE (c:Character)\n",
    "SET c += row;"
   ]
  },
  {
   "source": [
    "%%cypher\n",
    "LOAD CSV WITH HEADERS FROM \"https://raw.githubusercontent.com/tomasonjo/blog-datasets/main/Marvel/groups.csv\" as row\n",
    "CREATE (c:Group)\n",
    "SET c += row;"
   ],
   "cell_type": "code",
   "metadata": {},
   "execution_count": null,
   "outputs": []
  },
  {
   "cell_type": "code",
   "execution_count": null,
   "metadata": {},
   "outputs": [],
   "source": [
    "%%cypher\n",
    "LOAD CSV WITH HEADERS FROM \"https://raw.githubusercontent.com/tomasonjo/blog-datasets/main/Marvel/events.csv\" as row\n",
    "CREATE (c:Event)\n",
    "SET c += row;"
   ]
  },
  {
   "cell_type": "code",
   "execution_count": null,
   "metadata": {},
   "outputs": [],
   "source": [
    "%%cypher\n",
    "LOAD CSV WITH HEADERS FROM \"https://raw.githubusercontent.com/tomasonjo/blog-datasets/main/Marvel/comics.csv\" as row\n",
    "CREATE (c:Comic)\n",
    "SET c += apoc.map.clean(row,[],[\"null\"]);"
   ]
  },
  {
   "cell_type": "code",
   "execution_count": null,
   "metadata": {},
   "outputs": [],
   "source": [
    "%%cypher\n",
    "LOAD CSV WITH HEADERS FROM \"https://raw.githubusercontent.com/tomasonjo/blog-datasets/main/Marvel/heroToComics.csv\" as row\n",
    "MATCH (c:Character{id:row.hero})\n",
    "MATCH (co:Comic{id:row.comic})\n",
    "MERGE (c)-[:APPEARED_IN]->(co);"
   ]
  },
  {
   "cell_type": "code",
   "execution_count": null,
   "metadata": {},
   "outputs": [],
   "source": [
    "%%cypher\n",
    "LOAD CSV WITH HEADERS FROM \"https://raw.githubusercontent.com/tomasonjo/blog-datasets/main/Marvel/heroToEvent.csv\" as row\n",
    "MATCH (c:Character{id:row.hero})\n",
    "MATCH (e:Event{id:row.event})\n",
    "MERGE (c)-[:PART_OF_EVENT]->(e);"
   ]
  },
  {
   "cell_type": "code",
   "execution_count": null,
   "metadata": {},
   "outputs": [],
   "source": [
    "%%cypher\n",
    "LOAD CSV WITH HEADERS FROM \"https://raw.githubusercontent.com/tomasonjo/blog-datasets/main/Marvel/heroToGroup.csv\" as row\n",
    "MATCH (c:Character{id:row.hero})\n",
    "MATCH (g:Group{id:row.group})\n",
    "MERGE (c)-[:PART_OF_GROUP]->(g);"
   ]
  },
  {
   "cell_type": "code",
   "execution_count": null,
   "metadata": {},
   "outputs": [],
   "source": [
    "%%cypher\n",
    "LOAD CSV WITH HEADERS FROM \"https://raw.githubusercontent.com/tomasonjo/blog-datasets/main/Marvel/heroToHero.csv\" as row\n",
    "MATCH (s:Character{id:row.source})\n",
    "MATCH (t:Character{id:row.target})\n",
    "CALL apoc.create.relationship(s,row.type, {}, t) YIELD rel\n",
    "RETURN distinct 'done';"
   ]
  },
  {
   "cell_type": "code",
   "execution_count": null,
   "metadata": {},
   "outputs": [],
   "source": [
    "%%cypher\n",
    "LOAD CSV WITH HEADERS FROM \"https://raw.githubusercontent.com/tomasonjo/blog-datasets/main/Marvel/heroStats.csv\" as row\n",
    "MATCH (s:Character{id:row.hero})\n",
    "CREATE (s)-[:HAS_STATS]->(stats:Stats)\n",
    "SET stats += apoc.map.clean(row,['hero'],[]);"
   ]
  },
  {
   "cell_type": "code",
   "execution_count": null,
   "metadata": {},
   "outputs": [],
   "source": [
    "%%cypher\n",
    "LOAD CSV WITH HEADERS FROM \"https://raw.githubusercontent.com/tomasonjo/blog-datasets/main/Marvel/heroFlight.csv\" as row\n",
    "MATCH (s:Character{id:row.hero})\n",
    "SET s.flight = row.flight;"
   ]
  },
  {
   "cell_type": "code",
   "execution_count": null,
   "metadata": {},
   "outputs": [],
   "source": [
    "%%cypher\n",
    "MATCH (s:Stats)\n",
    "WITH keys(s) as keys LIMIT 1\n",
    "MATCH (s:Stats)\n",
    "UNWIND keys as key\n",
    "CALL apoc.create.setProperty(s, key, toInteger(s[key]))\n",
    "YIELD node\n",
    "RETURN distinct 'done';"
   ]
  },
  {
   "source": [
    "#### 1.2 Move character traits to character nodes"
   ],
   "cell_type": "markdown",
   "metadata": {}
  },
  {
   "cell_type": "code",
   "execution_count": null,
   "metadata": {},
   "outputs": [],
   "source": [
    "%%cypher\n",
    "MATCH (c:Character)-[:HAS_STATS]->(s)\n",
    "WITH c, s.strength as strength, s.fighting_skills as fighting_skills, s.durability as durability, s.speed as speed, s.intelligence as intelligence, s.energy as energy\n",
    "SET c.strength=strength,\n",
    "    c.fighting_skills=fighting_skills,\n",
    "    c.durability=durability,\n",
    "    c.speed=speed,\n",
    "    c.intelligence=intelligence,\n",
    "    c.energy=energy\n",
    "RETURN count(c)"
   ]
  },
  {
   "source": [
    "### 1.3 Create an appeared together relationship"
   ],
   "cell_type": "markdown",
   "metadata": {}
  },
  {
   "cell_type": "code",
   "execution_count": null,
   "metadata": {},
   "outputs": [],
   "source": [
    "%%cypher\n",
    "MATCH (c1:Character)-[:APPEARED_IN]->(c:Comic)<-[:APPEARED_IN]-(c2:Character) \n",
    "WITH c1, c2, count(c) as weight\n",
    "MERGE (c1)-[:APPEARED_WITH{times:weight}]->(c2)\n",
    "MERGE (c2)-[:APPEARED_WITH{times:weight}]->(c1);"
   ]
  },
  {
   "source": [
    "... and remove character labels from our orphan nodes (they mess up the results)"
   ],
   "cell_type": "markdown",
   "metadata": {}
  },
  {
   "cell_type": "code",
   "execution_count": null,
   "metadata": {},
   "outputs": [],
   "source": [
    "%%cypher\n",
    "MATCH (c:Character) \n",
    "WHERE NOT (c)-[:APPEARED_WITH]->(:Character)\n",
    "SET c:Orphan REMOVE c:Character;"
   ]
  },
  {
   "source": [
    "### 1.4 One hot encode group membership\n",
    "(I ended up not using this, but useful to know how to)"
   ],
   "cell_type": "markdown",
   "metadata": {}
  },
  {
   "cell_type": "code",
   "execution_count": null,
   "metadata": {},
   "outputs": [],
   "source": [
    "%%cypher\n",
    "MATCH (group:Group)\n",
    "WITH group\n",
    "   ORDER BY group.name\n",
    "WITH collect(group) AS groups\n",
    "MATCH (c:Character)\n",
    "WITH c, gds.alpha.ml.oneHotEncoding(groups, [(c)-[:PART_OF_GROUP]->(group) | group]) as group_membership\n",
    "SET c.group_membership=group_membership\n",
    "   "
   ]
  },
  {
   "source": [
    "## ASIDE ON GRAPH DRAWING"
   ],
   "cell_type": "markdown",
   "metadata": {}
  },
  {
   "cell_type": "code",
   "execution_count": null,
   "metadata": {},
   "outputs": [],
   "source": [
    "from notebook_setup import draw"
   ]
  },
  {
   "cell_type": "code",
   "execution_count": null,
   "metadata": {},
   "outputs": [],
   "source": [
    "%load_ext autoreload\n",
    "%autoreload 2\n",
    "\n",
    "result = %cypher MATCH p=()--() RETURN p LIMIT 100\n",
    "\n",
    "# options = {\"User\": \"name\", \"Tag\": \"id\", \"Topic\": \"title\"}\n",
    "options = {}\n",
    "print(options.get('User'))\n",
    "draw(result, options, physics=True)"
   ]
  },
  {
   "source": [
    "## 2. Feature Engineering\n",
    "### 2.1 load graph with features\n"
   ],
   "cell_type": "markdown",
   "metadata": {}
  },
  {
   "cell_type": "code",
   "execution_count": null,
   "metadata": {},
   "outputs": [],
   "source": [
    "%%cypher\n",
    "CALL gds.graph.create(\n",
    "  'marvel-character-graph',\n",
    "  {\n",
    "    Person: {\n",
    "      label: 'Character',\n",
    "      properties: { \n",
    "      strength:{property:'strength',defaultValue:0},\n",
    "      fighting_skills:{property:'fighting_skills', defaultValue:0},\n",
    "      durability:{property:'durability', defaultValue:0},\n",
    "      speed:{property:'speed', defaultValue:0},\n",
    "      intelligence:{property:'intelligence', defaultValue:0}\n",
    "      }\n",
    "    }\n",
    "  }, {\n",
    "    APPEARS_WITH_UNDIRECTED: {\n",
    "      type: 'APPEARED_WITH',\n",
    "      orientation: 'UNDIRECTED',\n",
    "      aggregation: 'SINGLE',\n",
    "      properties: ['times']\n",
    "    },\n",
    "    APPEARS_WITH_DIRECTED: {\n",
    "      type: 'APPEARED_WITH',\n",
    "      orientation: 'NATURAL',\n",
    "      properties: ['times'],\n",
    "      aggregation: 'SINGLE'\n",
    "    },\n",
    "    ALLY_UNDIRECTED: {\n",
    "      type: 'ALLY',\n",
    "      orientation: 'UNDIRECTED',\n",
    "      aggregation: 'SINGLE'\n",
    "    },\n",
    "    ALLY_DIRECTED: {\n",
    "      type: 'ALLY',\n",
    "      orientation: 'NATURAL',\n",
    "      aggregation: 'SINGLE'\n",
    "    },    \n",
    "    ENEMY_UNDIRECTED: {\n",
    "      type: 'ENEMY',\n",
    "      orientation: 'UNDIRECTED',\n",
    "      aggregation: 'SINGLE'\n",
    "    },\n",
    "    ENEMY_DIRECTED: {\n",
    "      type: 'ENEMY',\n",
    "      orientation: 'NATURAL',\n",
    "      aggregation: 'SINGLE'\n",
    "    }\n",
    "   \n",
    "});"
   ]
  },
  {
   "source": [
    "### 2.2 Mutate the in-memory graph rather than reload"
   ],
   "cell_type": "markdown",
   "metadata": {}
  },
  {
   "cell_type": "code",
   "execution_count": null,
   "metadata": {},
   "outputs": [],
   "source": [
    "%%cypher\n",
    "// PageRank\n",
    "CALL gds.pageRank.mutate('marvel-character-graph',{\n",
    "     relationshipTypes: ['APPEARS_WITH_DIRECTED'],\n",
    "     mutateProperty: 'appeared_with_pageRank'\n",
    "});"
   ]
  },
  {
   "cell_type": "code",
   "execution_count": null,
   "metadata": {},
   "outputs": [],
   "source": [
    "%%cypher\n",
    "CALL gds.pageRank.mutate('marvel-character-graph',{\n",
    "     relationshipTypes: ['ALLY_DIRECTED'],\n",
    "     mutateProperty: 'ally_pageRank'\n",
    "});"
   ]
  },
  {
   "cell_type": "code",
   "execution_count": null,
   "metadata": {},
   "outputs": [],
   "source": [
    "%%cypher\n",
    "CALL gds.pageRank.mutate('marvel-character-graph',{\n",
    "     relationshipTypes: ['ENEMY_DIRECTED'],\n",
    "     mutateProperty: 'enemy_pageRank'\n",
    "});"
   ]
  },
  {
   "cell_type": "code",
   "execution_count": null,
   "metadata": {},
   "outputs": [],
   "source": [
    "%%cypher\n",
    "// betweenness\n",
    "CALL gds.betweenness.mutate('marvel-character-graph',{\n",
    "     relationshipTypes: ['APPEARS_WITH_UNDIRECTED'],\n",
    "     mutateProperty: 'appeared_with_betweenness'\n",
    "});"
   ]
  },
  {
   "cell_type": "code",
   "execution_count": null,
   "metadata": {},
   "outputs": [],
   "source": [
    "%%cypher\n",
    "CALL gds.betweenness.mutate('marvel-character-graph',{\n",
    "     relationshipTypes: ['ALLY_UNDIRECTED'],\n",
    "     mutateProperty: 'ally_betweenness'\n",
    "});"
   ]
  },
  {
   "cell_type": "code",
   "execution_count": null,
   "metadata": {},
   "outputs": [],
   "source": [
    "%%cypher\n",
    "CALL gds.betweenness.mutate('marvel-character-graph',{\n",
    "     relationshipTypes: ['ENEMY_UNDIRECTED'],\n",
    "     mutateProperty: 'enemy_betweenness'\n",
    "});"
   ]
  },
  {
   "cell_type": "code",
   "execution_count": null,
   "metadata": {},
   "outputs": [],
   "source": [
    "%%cypher\n",
    "//HITS\n",
    "CALL gds.alpha.hits.mutate('marvel-character-graph',{\n",
    "     relationshipTypes: ['APPEARS_WITH_DIRECTED'],\n",
    "     hitsIterations: 50,\n",
    "     authProperty: 'appeared_with_auth',\n",
    "     hubProperty: 'appeared_with_hub'\n",
    "});"
   ]
  },
  {
   "cell_type": "code",
   "execution_count": null,
   "metadata": {},
   "outputs": [],
   "source": [
    "%%cypher\n",
    "CALL gds.alpha.hits.mutate('marvel-character-graph',{\n",
    "     relationshipTypes: ['ALLY_DIRECTED'],\n",
    "     hitsIterations: 50,\n",
    "     authProperty: 'ally_auth',\n",
    "     hubProperty: 'ally_hub'\n",
    "});"
   ]
  },
  {
   "cell_type": "code",
   "execution_count": null,
   "metadata": {},
   "outputs": [],
   "source": [
    "%%cypher\n",
    "CALL gds.alpha.hits.mutate('marvel-character-graph',{\n",
    "     relationshipTypes: ['ENEMY_DIRECTED'],\n",
    "     hitsIterations: 50,\n",
    "     authProperty: 'enemy_auth',\n",
    "     hubProperty: 'enemy_hub'\n",
    "});"
   ]
  },
  {
   "cell_type": "code",
   "execution_count": null,
   "metadata": {},
   "outputs": [],
   "source": [
    "%%cypher\n",
    "CALL gds.graph.writeNodeProperties(\n",
    "  'marvel-character-graph',\n",
    "  ['appeared_with_pageRank', 'appeared_with_betweenness', 'appeared_with_hub','appeared_with_auth','ally_pageRank', 'ally_betweenness', 'ally_hub','ally_auth','enemy_pageRank', 'enemy_betweenness', 'enemy_hub','enemy_auth'],\n",
    "  ['Person']\n",
    ");"
   ]
  }
 ]
}